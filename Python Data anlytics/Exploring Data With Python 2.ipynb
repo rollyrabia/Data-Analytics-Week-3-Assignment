{
 "cells": [
  {
   "cell_type": "code",
   "execution_count": 1,
   "id": "2ce2f857-d486-4c4d-b896-58e3597af08f",
   "metadata": {
    "tags": []
   },
   "outputs": [],
   "source": [
    "import pandas as pd\n",
    "url=\"https://raw.githubusercontent.com/ddaeducation/data/main/brasil-real-estate-2.csv\"\n",
    "brasil_data=pd.read_csv(url)"
   ]
  },
  {
   "cell_type": "code",
   "execution_count": 2,
   "id": "085858ae-d179-4e04-b697-033fd749bca0",
   "metadata": {
    "tags": []
   },
   "outputs": [
    {
     "data": {
      "text/html": [
       "<div>\n",
       "<style scoped>\n",
       "    .dataframe tbody tr th:only-of-type {\n",
       "        vertical-align: middle;\n",
       "    }\n",
       "\n",
       "    .dataframe tbody tr th {\n",
       "        vertical-align: top;\n",
       "    }\n",
       "\n",
       "    .dataframe thead th {\n",
       "        text-align: right;\n",
       "    }\n",
       "</style>\n",
       "<table border=\"1\" class=\"dataframe\">\n",
       "  <thead>\n",
       "    <tr style=\"text-align: right;\">\n",
       "      <th></th>\n",
       "      <th>property_type</th>\n",
       "      <th>state</th>\n",
       "      <th>region</th>\n",
       "      <th>lat</th>\n",
       "      <th>lon</th>\n",
       "      <th>area_m2</th>\n",
       "      <th>price_brl</th>\n",
       "    </tr>\n",
       "  </thead>\n",
       "  <tbody>\n",
       "    <tr>\n",
       "      <th>0</th>\n",
       "      <td>apartment</td>\n",
       "      <td>Pernambuco</td>\n",
       "      <td>Northeast</td>\n",
       "      <td>-8.134204</td>\n",
       "      <td>-34.906326</td>\n",
       "      <td>72.0</td>\n",
       "      <td>414222.98</td>\n",
       "    </tr>\n",
       "    <tr>\n",
       "      <th>1</th>\n",
       "      <td>apartment</td>\n",
       "      <td>Pernambuco</td>\n",
       "      <td>Northeast</td>\n",
       "      <td>-8.126664</td>\n",
       "      <td>-34.903924</td>\n",
       "      <td>136.0</td>\n",
       "      <td>848408.53</td>\n",
       "    </tr>\n",
       "    <tr>\n",
       "      <th>2</th>\n",
       "      <td>apartment</td>\n",
       "      <td>Pernambuco</td>\n",
       "      <td>Northeast</td>\n",
       "      <td>-8.125550</td>\n",
       "      <td>-34.907601</td>\n",
       "      <td>75.0</td>\n",
       "      <td>299438.28</td>\n",
       "    </tr>\n",
       "    <tr>\n",
       "      <th>3</th>\n",
       "      <td>apartment</td>\n",
       "      <td>Pernambuco</td>\n",
       "      <td>Northeast</td>\n",
       "      <td>-8.120249</td>\n",
       "      <td>-34.895920</td>\n",
       "      <td>187.0</td>\n",
       "      <td>848408.53</td>\n",
       "    </tr>\n",
       "    <tr>\n",
       "      <th>4</th>\n",
       "      <td>apartment</td>\n",
       "      <td>Pernambuco</td>\n",
       "      <td>Northeast</td>\n",
       "      <td>-8.142666</td>\n",
       "      <td>-34.906906</td>\n",
       "      <td>80.0</td>\n",
       "      <td>464129.36</td>\n",
       "    </tr>\n",
       "  </tbody>\n",
       "</table>\n",
       "</div>"
      ],
      "text/plain": [
       "  property_type       state     region       lat        lon  area_m2  \\\n",
       "0     apartment  Pernambuco  Northeast -8.134204 -34.906326     72.0   \n",
       "1     apartment  Pernambuco  Northeast -8.126664 -34.903924    136.0   \n",
       "2     apartment  Pernambuco  Northeast -8.125550 -34.907601     75.0   \n",
       "3     apartment  Pernambuco  Northeast -8.120249 -34.895920    187.0   \n",
       "4     apartment  Pernambuco  Northeast -8.142666 -34.906906     80.0   \n",
       "\n",
       "   price_brl  \n",
       "0  414222.98  \n",
       "1  848408.53  \n",
       "2  299438.28  \n",
       "3  848408.53  \n",
       "4  464129.36  "
      ]
     },
     "execution_count": 2,
     "metadata": {},
     "output_type": "execute_result"
    }
   ],
   "source": [
    "brasil_data.drop(columns='Unnamed: 0', inplace=True)\n",
    "brasil_data.head()"
   ]
  },
  {
   "cell_type": "code",
   "execution_count": 3,
   "id": "1c86b340-7c0d-41a9-8765-e66bfa772111",
   "metadata": {
    "tags": []
   },
   "outputs": [
    {
     "data": {
      "text/html": [
       "<div>\n",
       "<style scoped>\n",
       "    .dataframe tbody tr th:only-of-type {\n",
       "        vertical-align: middle;\n",
       "    }\n",
       "\n",
       "    .dataframe tbody tr th {\n",
       "        vertical-align: top;\n",
       "    }\n",
       "\n",
       "    .dataframe thead th {\n",
       "        text-align: right;\n",
       "    }\n",
       "</style>\n",
       "<table border=\"1\" class=\"dataframe\">\n",
       "  <thead>\n",
       "    <tr style=\"text-align: right;\">\n",
       "      <th></th>\n",
       "      <th>Category</th>\n",
       "      <th>Store</th>\n",
       "      <th>Sales</th>\n",
       "      <th>Returns</th>\n",
       "      <th>Date</th>\n",
       "    </tr>\n",
       "  </thead>\n",
       "  <tbody>\n",
       "    <tr>\n",
       "      <th>0</th>\n",
       "      <td>B</td>\n",
       "      <td>4.0</td>\n",
       "      <td>100.0</td>\n",
       "      <td>15.0</td>\n",
       "      <td>1/1/2023</td>\n",
       "    </tr>\n",
       "    <tr>\n",
       "      <th>1</th>\n",
       "      <td>NaN</td>\n",
       "      <td>3.0</td>\n",
       "      <td>300.0</td>\n",
       "      <td>15.0</td>\n",
       "      <td>1/2/2023</td>\n",
       "    </tr>\n",
       "    <tr>\n",
       "      <th>2</th>\n",
       "      <td>D</td>\n",
       "      <td>2.0</td>\n",
       "      <td>500.0</td>\n",
       "      <td>5.0</td>\n",
       "      <td>1/3/2023</td>\n",
       "    </tr>\n",
       "    <tr>\n",
       "      <th>3</th>\n",
       "      <td>C</td>\n",
       "      <td>5.0</td>\n",
       "      <td>400.0</td>\n",
       "      <td>10.0</td>\n",
       "      <td>1/4/2023</td>\n",
       "    </tr>\n",
       "    <tr>\n",
       "      <th>4</th>\n",
       "      <td>A</td>\n",
       "      <td>4.0</td>\n",
       "      <td>500.0</td>\n",
       "      <td>10.0</td>\n",
       "      <td>1/5/2023</td>\n",
       "    </tr>\n",
       "  </tbody>\n",
       "</table>\n",
       "</div>"
      ],
      "text/plain": [
       "  Category  Store  Sales  Returns      Date\n",
       "0        B    4.0  100.0     15.0  1/1/2023\n",
       "1      NaN    3.0  300.0     15.0  1/2/2023\n",
       "2        D    2.0  500.0      5.0  1/3/2023\n",
       "3        C    5.0  400.0     10.0  1/4/2023\n",
       "4        A    4.0  500.0     10.0  1/5/2023"
      ]
     },
     "execution_count": 3,
     "metadata": {},
     "output_type": "execute_result"
    }
   ],
   "source": [
    "sales_data=pd.read_csv(\"large_dataset.csv\")\n",
    "sales_data.head()"
   ]
  },
  {
   "cell_type": "markdown",
   "id": "81ce01cc-a653-4d2f-817c-5b58d04f8d53",
   "metadata": {},
   "source": [
    "# Data Manipulation"
   ]
  },
  {
   "cell_type": "markdown",
   "id": "87e9409d-7932-4741-b059-1ea915bd72da",
   "metadata": {},
   "source": [
    "### 2.1 Data Cleaning"
   ]
  },
  {
   "cell_type": "markdown",
   "id": "e0078f50-d12c-4feb-9b92-6aedb7054d75",
   "metadata": {},
   "source": [
    "1. **Handling Missing Data**:\n",
    "   - **`isnull()`**: This function is used to detect missing values in a DataFrame. It returns a DataFrame of the same shape as the original, with `True` for missing values and `False` for non-missing values.\n",
    "   - **`dropna()`**: This function is used to remove missing values from a DataFrame. You can specify whether to drop rows or columns with missing values.\n",
    "   - **`fillna()`**: This function is used to fill missing values with a specified value or method (e.g., forward fill, backward fill)."
   ]
  },
  {
   "cell_type": "markdown",
   "id": "e754faa4-3521-415e-9683-192f0a1078a7",
   "metadata": {},
   "source": [
    "### Isnull()"
   ]
  },
  {
   "cell_type": "code",
   "execution_count": 4,
   "id": "57832a1a-4c4a-4bf7-ace3-a4db7a05d7f2",
   "metadata": {},
   "outputs": [
    {
     "data": {
      "text/plain": [
       "Category    55\n",
       "Store       45\n",
       "Sales       53\n",
       "Returns     44\n",
       "Date         9\n",
       "dtype: int64"
      ]
     },
     "execution_count": 4,
     "metadata": {},
     "output_type": "execute_result"
    }
   ],
   "source": [
    "### Chekcing for missing values\n",
    "sales_data.isnull().sum()"
   ]
  },
  {
   "cell_type": "code",
   "execution_count": 5,
   "id": "728274f0-c604-4ac1-be79-b47c71c6c419",
   "metadata": {},
   "outputs": [
    {
     "data": {
      "text/plain": [
       "(500, 5)"
      ]
     },
     "execution_count": 5,
     "metadata": {},
     "output_type": "execute_result"
    }
   ],
   "source": [
    "# size of the dataset\n",
    "sales_data.shape"
   ]
  },
  {
   "cell_type": "code",
   "execution_count": 6,
   "id": "d72818d3-4cf4-4f57-ac5b-c5a16aed3dab",
   "metadata": {
    "tags": []
   },
   "outputs": [
    {
     "data": {
      "text/plain": [
       "500"
      ]
     },
     "execution_count": 6,
     "metadata": {},
     "output_type": "execute_result"
    }
   ],
   "source": [
    "# len (rows), observatioons\n",
    "len(sales_data)"
   ]
  },
  {
   "cell_type": "code",
   "execution_count": 7,
   "id": "1b54852e-6001-4df1-8c52-f8c37d7bcd40",
   "metadata": {},
   "outputs": [
    {
     "data": {
      "text/plain": [
       "Category    11.0\n",
       "Store        9.0\n",
       "Sales       10.6\n",
       "Returns      8.8\n",
       "Date         1.8\n",
       "dtype: float64"
      ]
     },
     "execution_count": 7,
     "metadata": {},
     "output_type": "execute_result"
    }
   ],
   "source": [
    "# Percentage of missing \n",
    "sales_data.isnull().sum()*100/len(sales_data)"
   ]
  },
  {
   "cell_type": "markdown",
   "id": "6c6c6979-1ab1-4951-88a8-764f644a353a",
   "metadata": {},
   "source": [
    "### Dropna()"
   ]
  },
  {
   "cell_type": "code",
   "execution_count": 8,
   "id": "f24a2836-51ac-4762-b372-24856f3da939",
   "metadata": {
    "tags": []
   },
   "outputs": [],
   "source": [
    "#\n",
    "sales_datacopy=sales_data.copy()"
   ]
  },
  {
   "cell_type": "code",
   "execution_count": 9,
   "id": "c0b49121-4de5-4199-9267-17400d92a3c1",
   "metadata": {
    "tags": []
   },
   "outputs": [
    {
     "data": {
      "text/html": [
       "<div>\n",
       "<style scoped>\n",
       "    .dataframe tbody tr th:only-of-type {\n",
       "        vertical-align: middle;\n",
       "    }\n",
       "\n",
       "    .dataframe tbody tr th {\n",
       "        vertical-align: top;\n",
       "    }\n",
       "\n",
       "    .dataframe thead th {\n",
       "        text-align: right;\n",
       "    }\n",
       "</style>\n",
       "<table border=\"1\" class=\"dataframe\">\n",
       "  <thead>\n",
       "    <tr style=\"text-align: right;\">\n",
       "      <th></th>\n",
       "      <th>Category</th>\n",
       "      <th>Store</th>\n",
       "      <th>Sales</th>\n",
       "      <th>Returns</th>\n",
       "      <th>Date</th>\n",
       "    </tr>\n",
       "  </thead>\n",
       "  <tbody>\n",
       "    <tr>\n",
       "      <th>0</th>\n",
       "      <td>B</td>\n",
       "      <td>4.0</td>\n",
       "      <td>100.0</td>\n",
       "      <td>15.0</td>\n",
       "      <td>1/1/2023</td>\n",
       "    </tr>\n",
       "    <tr>\n",
       "      <th>1</th>\n",
       "      <td>NaN</td>\n",
       "      <td>3.0</td>\n",
       "      <td>300.0</td>\n",
       "      <td>15.0</td>\n",
       "      <td>1/2/2023</td>\n",
       "    </tr>\n",
       "    <tr>\n",
       "      <th>2</th>\n",
       "      <td>D</td>\n",
       "      <td>2.0</td>\n",
       "      <td>500.0</td>\n",
       "      <td>5.0</td>\n",
       "      <td>1/3/2023</td>\n",
       "    </tr>\n",
       "    <tr>\n",
       "      <th>3</th>\n",
       "      <td>C</td>\n",
       "      <td>5.0</td>\n",
       "      <td>400.0</td>\n",
       "      <td>10.0</td>\n",
       "      <td>1/4/2023</td>\n",
       "    </tr>\n",
       "    <tr>\n",
       "      <th>4</th>\n",
       "      <td>A</td>\n",
       "      <td>4.0</td>\n",
       "      <td>500.0</td>\n",
       "      <td>10.0</td>\n",
       "      <td>1/5/2023</td>\n",
       "    </tr>\n",
       "  </tbody>\n",
       "</table>\n",
       "</div>"
      ],
      "text/plain": [
       "  Category  Store  Sales  Returns      Date\n",
       "0        B    4.0  100.0     15.0  1/1/2023\n",
       "1      NaN    3.0  300.0     15.0  1/2/2023\n",
       "2        D    2.0  500.0      5.0  1/3/2023\n",
       "3        C    5.0  400.0     10.0  1/4/2023\n",
       "4        A    4.0  500.0     10.0  1/5/2023"
      ]
     },
     "execution_count": 9,
     "metadata": {},
     "output_type": "execute_result"
    }
   ],
   "source": [
    "sales_datacopy.head()"
   ]
  },
  {
   "cell_type": "code",
   "execution_count": 10,
   "id": "a82a1e11-736b-497d-8988-3590ca6f9f13",
   "metadata": {
    "tags": []
   },
   "outputs": [],
   "source": [
    "# use inplace = True, to keep the new data\n",
    "sales_datacopy.dropna(inplace=True)"
   ]
  },
  {
   "cell_type": "code",
   "execution_count": 11,
   "id": "85888f78-7dc1-4078-9d59-a61b042f38d2",
   "metadata": {
    "tags": []
   },
   "outputs": [
    {
     "data": {
      "text/plain": [
       "Category    0\n",
       "Store       0\n",
       "Sales       0\n",
       "Returns     0\n",
       "Date        0\n",
       "dtype: int64"
      ]
     },
     "execution_count": 11,
     "metadata": {},
     "output_type": "execute_result"
    }
   ],
   "source": [
    "# Checking the missing values\n",
    "sales_datacopy.isnull().sum()"
   ]
  },
  {
   "cell_type": "code",
   "execution_count": 12,
   "id": "d9868c99-3a5e-41b8-a68a-092b11d0e635",
   "metadata": {
    "tags": []
   },
   "outputs": [
    {
     "data": {
      "text/plain": [
       "(326, 5)"
      ]
     },
     "execution_count": 12,
     "metadata": {},
     "output_type": "execute_result"
    }
   ],
   "source": [
    "sales_datacopy.shape"
   ]
  },
  {
   "cell_type": "markdown",
   "id": "28a9a763-3392-4c99-b469-2809888e511f",
   "metadata": {},
   "source": [
    "### Fillna(), Replacement"
   ]
  },
  {
   "cell_type": "code",
   "execution_count": 13,
   "id": "2dbf6904-ef7f-4db9-9253-7d85383f3270",
   "metadata": {
    "tags": []
   },
   "outputs": [
    {
     "data": {
      "text/html": [
       "<div>\n",
       "<style scoped>\n",
       "    .dataframe tbody tr th:only-of-type {\n",
       "        vertical-align: middle;\n",
       "    }\n",
       "\n",
       "    .dataframe tbody tr th {\n",
       "        vertical-align: top;\n",
       "    }\n",
       "\n",
       "    .dataframe thead th {\n",
       "        text-align: right;\n",
       "    }\n",
       "</style>\n",
       "<table border=\"1\" class=\"dataframe\">\n",
       "  <thead>\n",
       "    <tr style=\"text-align: right;\">\n",
       "      <th></th>\n",
       "      <th>Category</th>\n",
       "      <th>Store</th>\n",
       "      <th>Sales</th>\n",
       "      <th>Returns</th>\n",
       "      <th>Date</th>\n",
       "    </tr>\n",
       "  </thead>\n",
       "  <tbody>\n",
       "    <tr>\n",
       "      <th>0</th>\n",
       "      <td>B</td>\n",
       "      <td>4.0</td>\n",
       "      <td>100.0</td>\n",
       "      <td>15.0</td>\n",
       "      <td>1/1/2023</td>\n",
       "    </tr>\n",
       "    <tr>\n",
       "      <th>1</th>\n",
       "      <td>NaN</td>\n",
       "      <td>3.0</td>\n",
       "      <td>300.0</td>\n",
       "      <td>15.0</td>\n",
       "      <td>1/2/2023</td>\n",
       "    </tr>\n",
       "    <tr>\n",
       "      <th>2</th>\n",
       "      <td>D</td>\n",
       "      <td>2.0</td>\n",
       "      <td>500.0</td>\n",
       "      <td>5.0</td>\n",
       "      <td>1/3/2023</td>\n",
       "    </tr>\n",
       "    <tr>\n",
       "      <th>3</th>\n",
       "      <td>C</td>\n",
       "      <td>5.0</td>\n",
       "      <td>400.0</td>\n",
       "      <td>10.0</td>\n",
       "      <td>1/4/2023</td>\n",
       "    </tr>\n",
       "    <tr>\n",
       "      <th>4</th>\n",
       "      <td>A</td>\n",
       "      <td>4.0</td>\n",
       "      <td>500.0</td>\n",
       "      <td>10.0</td>\n",
       "      <td>1/5/2023</td>\n",
       "    </tr>\n",
       "  </tbody>\n",
       "</table>\n",
       "</div>"
      ],
      "text/plain": [
       "  Category  Store  Sales  Returns      Date\n",
       "0        B    4.0  100.0     15.0  1/1/2023\n",
       "1      NaN    3.0  300.0     15.0  1/2/2023\n",
       "2        D    2.0  500.0      5.0  1/3/2023\n",
       "3        C    5.0  400.0     10.0  1/4/2023\n",
       "4        A    4.0  500.0     10.0  1/5/2023"
      ]
     },
     "execution_count": 13,
     "metadata": {},
     "output_type": "execute_result"
    }
   ],
   "source": [
    "sales_data.head()"
   ]
  },
  {
   "cell_type": "markdown",
   "id": "9c36db3c-c4a3-4eea-8d34-97d61ef4262e",
   "metadata": {},
   "source": [
    "- Replace missing value with Mean\n",
    "- Replace missing value with Median\n",
    "- Replace missing value with Mode"
   ]
  },
  {
   "cell_type": "code",
   "execution_count": 14,
   "id": "0b3ca8fa-8466-437f-a8e3-db4c95341673",
   "metadata": {
    "tags": []
   },
   "outputs": [],
   "source": [
    "sales_data[\"Date\"]=pd.to_datetime(sales_data[\"Date\"],errors='coerce' )"
   ]
  },
  {
   "cell_type": "code",
   "execution_count": 15,
   "id": "e86305cc-c02c-4c9e-9175-aa90cab53940",
   "metadata": {
    "tags": []
   },
   "outputs": [
    {
     "data": {
      "text/plain": [
       "Category    55\n",
       "Store       45\n",
       "Sales       53\n",
       "Returns     44\n",
       "Date         9\n",
       "dtype: int64"
      ]
     },
     "execution_count": 15,
     "metadata": {},
     "output_type": "execute_result"
    }
   ],
   "source": [
    "sales_data.isna().sum()"
   ]
  },
  {
   "cell_type": "markdown",
   "id": "f27d712a-6828-4a0a-a9a3-013c1f1b1b4c",
   "metadata": {},
   "source": [
    "### Replace missing value with Mean"
   ]
  },
  {
   "cell_type": "code",
   "execution_count": 16,
   "id": "0d1b3107-6194-49a4-afa0-1aa6e3ebec05",
   "metadata": {
    "tags": []
   },
   "outputs": [
    {
     "data": {
      "text/plain": [
       "287.91946308724835"
      ]
     },
     "execution_count": 16,
     "metadata": {},
     "output_type": "execute_result"
    }
   ],
   "source": [
    "sales_data['Sales'].mean()"
   ]
  },
  {
   "cell_type": "code",
   "execution_count": 17,
   "id": "d7b575ae-24b3-452b-ad41-a7c44d1ab0e9",
   "metadata": {
    "tags": []
   },
   "outputs": [],
   "source": [
    "media_store=sales_data['Store'].median()\n",
    "sales_data[\"Store\"].fillna(media_store, inplace=True)"
   ]
  },
  {
   "cell_type": "code",
   "execution_count": 18,
   "id": "0c3bf490-8283-4d94-bf52-6c8974fbb201",
   "metadata": {
    "tags": []
   },
   "outputs": [],
   "source": [
    "sales_data['Sales'].fillna(sales_data['Sales'].mean(), inplace=True)"
   ]
  },
  {
   "cell_type": "code",
   "execution_count": 19,
   "id": "30d1791a-ed64-4fa7-bf0b-bcb2035fd14f",
   "metadata": {
    "tags": []
   },
   "outputs": [],
   "source": [
    "sales_data[\"Category\"].fillna(sales_data['Category'].mode(), inplace=True)"
   ]
  },
  {
   "cell_type": "code",
   "execution_count": 20,
   "id": "b29f2cc1-4e74-4913-97f9-c1ecea42e891",
   "metadata": {
    "tags": []
   },
   "outputs": [
    {
     "data": {
      "text/plain": [
       "Category    55\n",
       "Store        0\n",
       "Sales        0\n",
       "Returns     44\n",
       "Date         9\n",
       "dtype: int64"
      ]
     },
     "execution_count": 20,
     "metadata": {},
     "output_type": "execute_result"
    }
   ],
   "source": [
    "sales_data.isna().sum()"
   ]
  },
  {
   "cell_type": "markdown",
   "id": "fd438805-4790-426f-bf7a-7bccfe718aef",
   "metadata": {},
   "source": [
    "2. **Renaming Columns and Rows**:\n",
    "   - You can rename columns using the `rename()` method, passing a dictionary that maps old names to new names.\n",
    "   - `df = df.rename(columns={\"old_name1\": \"new_name1\", \"old_name2\": \"new_name2\"})`\n",
    "\n",
    "   - For renaming rows (index), you can also use the `rename()` method with the `index` parameter.\n",
    "   - `df = df.rename(index={\"row1\": \"new_row1\", \"row2\": \"new_row2\"})`"
   ]
  },
  {
   "cell_type": "code",
   "execution_count": 21,
   "id": "a407e41a-7080-47ea-a26e-378c9db7c2c3",
   "metadata": {},
   "outputs": [
    {
     "data": {
      "text/plain": [
       "Index(['Category', 'Store', 'Sales', 'Returns', 'Date'], dtype='object')"
      ]
     },
     "execution_count": 21,
     "metadata": {},
     "output_type": "execute_result"
    }
   ],
   "source": [
    "sales_data.columns"
   ]
  },
  {
   "cell_type": "code",
   "execution_count": 22,
   "id": "9ca261b4-9258-4e97-93ed-5750348245ae",
   "metadata": {},
   "outputs": [
    {
     "data": {
      "text/html": [
       "<div>\n",
       "<style scoped>\n",
       "    .dataframe tbody tr th:only-of-type {\n",
       "        vertical-align: middle;\n",
       "    }\n",
       "\n",
       "    .dataframe tbody tr th {\n",
       "        vertical-align: top;\n",
       "    }\n",
       "\n",
       "    .dataframe thead th {\n",
       "        text-align: right;\n",
       "    }\n",
       "</style>\n",
       "<table border=\"1\" class=\"dataframe\">\n",
       "  <thead>\n",
       "    <tr style=\"text-align: right;\">\n",
       "      <th></th>\n",
       "      <th>Cat</th>\n",
       "      <th>Store</th>\n",
       "      <th>Sales</th>\n",
       "      <th>ROI</th>\n",
       "      <th>Date</th>\n",
       "    </tr>\n",
       "  </thead>\n",
       "  <tbody>\n",
       "    <tr>\n",
       "      <th>0</th>\n",
       "      <td>B</td>\n",
       "      <td>4.0</td>\n",
       "      <td>100.0</td>\n",
       "      <td>15.0</td>\n",
       "      <td>2023-01-01</td>\n",
       "    </tr>\n",
       "    <tr>\n",
       "      <th>1</th>\n",
       "      <td>NaN</td>\n",
       "      <td>3.0</td>\n",
       "      <td>300.0</td>\n",
       "      <td>15.0</td>\n",
       "      <td>2023-01-02</td>\n",
       "    </tr>\n",
       "  </tbody>\n",
       "</table>\n",
       "</div>"
      ],
      "text/plain": [
       "   Cat  Store  Sales   ROI       Date\n",
       "0    B    4.0  100.0  15.0 2023-01-01\n",
       "1  NaN    3.0  300.0  15.0 2023-01-02"
      ]
     },
     "execution_count": 22,
     "metadata": {},
     "output_type": "execute_result"
    }
   ],
   "source": [
    "sales_data=sales_data.rename(columns={\"Category\":\"Cat\",\"Returns\":\"ROI\"})\n",
    "sales_data.head(2)"
   ]
  },
  {
   "cell_type": "code",
   "execution_count": 23,
   "id": "3c960bcc-1960-486a-b5ca-f9e68bd2a8f8",
   "metadata": {
    "tags": []
   },
   "outputs": [],
   "source": [
    "sales_data=sales_data.set_index(\"Cat\")"
   ]
  },
  {
   "cell_type": "code",
   "execution_count": 24,
   "id": "d09b156c-e7ed-4c0c-ad48-3dcff169080b",
   "metadata": {
    "tags": []
   },
   "outputs": [
    {
     "data": {
      "text/html": [
       "<div>\n",
       "<style scoped>\n",
       "    .dataframe tbody tr th:only-of-type {\n",
       "        vertical-align: middle;\n",
       "    }\n",
       "\n",
       "    .dataframe tbody tr th {\n",
       "        vertical-align: top;\n",
       "    }\n",
       "\n",
       "    .dataframe thead th {\n",
       "        text-align: right;\n",
       "    }\n",
       "</style>\n",
       "<table border=\"1\" class=\"dataframe\">\n",
       "  <thead>\n",
       "    <tr style=\"text-align: right;\">\n",
       "      <th></th>\n",
       "      <th>Store</th>\n",
       "      <th>Sales</th>\n",
       "      <th>ROI</th>\n",
       "      <th>Date</th>\n",
       "    </tr>\n",
       "    <tr>\n",
       "      <th>Cat</th>\n",
       "      <th></th>\n",
       "      <th></th>\n",
       "      <th></th>\n",
       "      <th></th>\n",
       "    </tr>\n",
       "  </thead>\n",
       "  <tbody>\n",
       "    <tr>\n",
       "      <th>B</th>\n",
       "      <td>4.0</td>\n",
       "      <td>100.0</td>\n",
       "      <td>15.0</td>\n",
       "      <td>2023-01-01</td>\n",
       "    </tr>\n",
       "    <tr>\n",
       "      <th>NaN</th>\n",
       "      <td>3.0</td>\n",
       "      <td>300.0</td>\n",
       "      <td>15.0</td>\n",
       "      <td>2023-01-02</td>\n",
       "    </tr>\n",
       "    <tr>\n",
       "      <th>D</th>\n",
       "      <td>2.0</td>\n",
       "      <td>500.0</td>\n",
       "      <td>5.0</td>\n",
       "      <td>2023-01-03</td>\n",
       "    </tr>\n",
       "    <tr>\n",
       "      <th>C</th>\n",
       "      <td>5.0</td>\n",
       "      <td>400.0</td>\n",
       "      <td>10.0</td>\n",
       "      <td>2023-01-04</td>\n",
       "    </tr>\n",
       "    <tr>\n",
       "      <th>A</th>\n",
       "      <td>4.0</td>\n",
       "      <td>500.0</td>\n",
       "      <td>10.0</td>\n",
       "      <td>2023-01-05</td>\n",
       "    </tr>\n",
       "  </tbody>\n",
       "</table>\n",
       "</div>"
      ],
      "text/plain": [
       "     Store  Sales   ROI       Date\n",
       "Cat                               \n",
       "B      4.0  100.0  15.0 2023-01-01\n",
       "NaN    3.0  300.0  15.0 2023-01-02\n",
       "D      2.0  500.0   5.0 2023-01-03\n",
       "C      5.0  400.0  10.0 2023-01-04\n",
       "A      4.0  500.0  10.0 2023-01-05"
      ]
     },
     "execution_count": 24,
     "metadata": {},
     "output_type": "execute_result"
    }
   ],
   "source": [
    "sales_data.head()"
   ]
  },
  {
   "cell_type": "code",
   "execution_count": 25,
   "id": "3a406f85-e902-4039-b12e-2a78f84cefdb",
   "metadata": {
    "tags": []
   },
   "outputs": [
    {
     "data": {
      "text/html": [
       "<div>\n",
       "<style scoped>\n",
       "    .dataframe tbody tr th:only-of-type {\n",
       "        vertical-align: middle;\n",
       "    }\n",
       "\n",
       "    .dataframe tbody tr th {\n",
       "        vertical-align: top;\n",
       "    }\n",
       "\n",
       "    .dataframe thead th {\n",
       "        text-align: right;\n",
       "    }\n",
       "</style>\n",
       "<table border=\"1\" class=\"dataframe\">\n",
       "  <thead>\n",
       "    <tr style=\"text-align: right;\">\n",
       "      <th></th>\n",
       "      <th>Store</th>\n",
       "      <th>Sales</th>\n",
       "      <th>ROI</th>\n",
       "      <th>Date</th>\n",
       "    </tr>\n",
       "    <tr>\n",
       "      <th>Cat</th>\n",
       "      <th></th>\n",
       "      <th></th>\n",
       "      <th></th>\n",
       "      <th></th>\n",
       "    </tr>\n",
       "  </thead>\n",
       "  <tbody>\n",
       "    <tr>\n",
       "      <th>Product B</th>\n",
       "      <td>4.0</td>\n",
       "      <td>100.0</td>\n",
       "      <td>15.0</td>\n",
       "      <td>2023-01-01</td>\n",
       "    </tr>\n",
       "    <tr>\n",
       "      <th>NaN</th>\n",
       "      <td>3.0</td>\n",
       "      <td>300.0</td>\n",
       "      <td>15.0</td>\n",
       "      <td>2023-01-02</td>\n",
       "    </tr>\n",
       "    <tr>\n",
       "      <th>D</th>\n",
       "      <td>2.0</td>\n",
       "      <td>500.0</td>\n",
       "      <td>5.0</td>\n",
       "      <td>2023-01-03</td>\n",
       "    </tr>\n",
       "    <tr>\n",
       "      <th>C</th>\n",
       "      <td>5.0</td>\n",
       "      <td>400.0</td>\n",
       "      <td>10.0</td>\n",
       "      <td>2023-01-04</td>\n",
       "    </tr>\n",
       "    <tr>\n",
       "      <th>A</th>\n",
       "      <td>4.0</td>\n",
       "      <td>500.0</td>\n",
       "      <td>10.0</td>\n",
       "      <td>2023-01-05</td>\n",
       "    </tr>\n",
       "    <tr>\n",
       "      <th>...</th>\n",
       "      <td>...</td>\n",
       "      <td>...</td>\n",
       "      <td>...</td>\n",
       "      <td>...</td>\n",
       "    </tr>\n",
       "    <tr>\n",
       "      <th>Product B</th>\n",
       "      <td>1.0</td>\n",
       "      <td>400.0</td>\n",
       "      <td>20.0</td>\n",
       "      <td>2024-05-10</td>\n",
       "    </tr>\n",
       "    <tr>\n",
       "      <th>C</th>\n",
       "      <td>3.0</td>\n",
       "      <td>400.0</td>\n",
       "      <td>NaN</td>\n",
       "      <td>2024-05-11</td>\n",
       "    </tr>\n",
       "    <tr>\n",
       "      <th>A</th>\n",
       "      <td>1.0</td>\n",
       "      <td>300.0</td>\n",
       "      <td>5.0</td>\n",
       "      <td>2024-05-12</td>\n",
       "    </tr>\n",
       "    <tr>\n",
       "      <th>NaN</th>\n",
       "      <td>3.0</td>\n",
       "      <td>200.0</td>\n",
       "      <td>5.0</td>\n",
       "      <td>2024-05-13</td>\n",
       "    </tr>\n",
       "    <tr>\n",
       "      <th>NaN</th>\n",
       "      <td>3.0</td>\n",
       "      <td>500.0</td>\n",
       "      <td>10.0</td>\n",
       "      <td>2024-05-14</td>\n",
       "    </tr>\n",
       "  </tbody>\n",
       "</table>\n",
       "<p>500 rows × 4 columns</p>\n",
       "</div>"
      ],
      "text/plain": [
       "           Store  Sales   ROI       Date\n",
       "Cat                                     \n",
       "Product B    4.0  100.0  15.0 2023-01-01\n",
       "NaN          3.0  300.0  15.0 2023-01-02\n",
       "D            2.0  500.0   5.0 2023-01-03\n",
       "C            5.0  400.0  10.0 2023-01-04\n",
       "A            4.0  500.0  10.0 2023-01-05\n",
       "...          ...    ...   ...        ...\n",
       "Product B    1.0  400.0  20.0 2024-05-10\n",
       "C            3.0  400.0   NaN 2024-05-11\n",
       "A            1.0  300.0   5.0 2024-05-12\n",
       "NaN          3.0  200.0   5.0 2024-05-13\n",
       "NaN          3.0  500.0  10.0 2024-05-14\n",
       "\n",
       "[500 rows x 4 columns]"
      ]
     },
     "execution_count": 25,
     "metadata": {},
     "output_type": "execute_result"
    }
   ],
   "source": [
    "sales_data.rename(index={\"B\":\"Product B\"})"
   ]
  },
  {
   "cell_type": "markdown",
   "id": "23f6c3ce-761a-47d6-adba-63b3aeb3773e",
   "metadata": {},
   "source": [
    "3. **Dropping Duplicates**:\n",
    "   - **`drop_duplicates()`**: This function is used to remove duplicate rows from a DataFrame. You can specify which columns to consider for identifying duplicates."
   ]
  },
  {
   "cell_type": "code",
   "execution_count": 26,
   "id": "d323f165-b55a-4334-a049-63ae61aafcfb",
   "metadata": {},
   "outputs": [
    {
     "data": {
      "text/plain": [
       "1"
      ]
     },
     "execution_count": 26,
     "metadata": {},
     "output_type": "execute_result"
    }
   ],
   "source": [
    "sales_data.duplicated().sum()"
   ]
  },
  {
   "cell_type": "code",
   "execution_count": 27,
   "id": "ae64016a-ff40-43af-ae11-d6c6ff46de36",
   "metadata": {
    "tags": []
   },
   "outputs": [],
   "source": [
    "sales_data.drop_duplicates(inplace=True)"
   ]
  },
  {
   "cell_type": "code",
   "execution_count": 28,
   "id": "0654af20-a7b8-4242-9792-863885308cb4",
   "metadata": {},
   "outputs": [
    {
     "data": {
      "text/plain": [
       "0"
      ]
     },
     "execution_count": 28,
     "metadata": {},
     "output_type": "execute_result"
    }
   ],
   "source": [
    "sales_data.duplicated().sum()"
   ]
  },
  {
   "cell_type": "markdown",
   "id": "9756ffb1-4244-4f57-8b13-28f113fe6c1d",
   "metadata": {},
   "source": [
    "### 2.2 Data Transformation\n",
    "\n",
    "1. **Filtering and Conditional Selections**:\n",
    "   - You can filter DataFrames using boolean indexing, where you create a boolean mask based on conditions.\n",
    "   - `mask = df[\"A\"] > 25 to filtered_df = df[mask]"
   ]
  },
  {
   "cell_type": "code",
   "execution_count": 29,
   "id": "3724bfb9-da3e-4121-b6ad-2613c87c4f84",
   "metadata": {},
   "outputs": [
    {
     "data": {
      "text/html": [
       "<div>\n",
       "<style scoped>\n",
       "    .dataframe tbody tr th:only-of-type {\n",
       "        vertical-align: middle;\n",
       "    }\n",
       "\n",
       "    .dataframe tbody tr th {\n",
       "        vertical-align: top;\n",
       "    }\n",
       "\n",
       "    .dataframe thead th {\n",
       "        text-align: right;\n",
       "    }\n",
       "</style>\n",
       "<table border=\"1\" class=\"dataframe\">\n",
       "  <thead>\n",
       "    <tr style=\"text-align: right;\">\n",
       "      <th></th>\n",
       "      <th>Cat</th>\n",
       "      <th>Store</th>\n",
       "      <th>Sales</th>\n",
       "      <th>ROI</th>\n",
       "      <th>Date</th>\n",
       "    </tr>\n",
       "  </thead>\n",
       "  <tbody>\n",
       "    <tr>\n",
       "      <th>0</th>\n",
       "      <td>B</td>\n",
       "      <td>4.0</td>\n",
       "      <td>100.0</td>\n",
       "      <td>15.0</td>\n",
       "      <td>2023-01-01</td>\n",
       "    </tr>\n",
       "    <tr>\n",
       "      <th>1</th>\n",
       "      <td>NaN</td>\n",
       "      <td>3.0</td>\n",
       "      <td>300.0</td>\n",
       "      <td>15.0</td>\n",
       "      <td>2023-01-02</td>\n",
       "    </tr>\n",
       "    <tr>\n",
       "      <th>2</th>\n",
       "      <td>D</td>\n",
       "      <td>2.0</td>\n",
       "      <td>500.0</td>\n",
       "      <td>5.0</td>\n",
       "      <td>2023-01-03</td>\n",
       "    </tr>\n",
       "    <tr>\n",
       "      <th>3</th>\n",
       "      <td>C</td>\n",
       "      <td>5.0</td>\n",
       "      <td>400.0</td>\n",
       "      <td>10.0</td>\n",
       "      <td>2023-01-04</td>\n",
       "    </tr>\n",
       "    <tr>\n",
       "      <th>4</th>\n",
       "      <td>A</td>\n",
       "      <td>4.0</td>\n",
       "      <td>500.0</td>\n",
       "      <td>10.0</td>\n",
       "      <td>2023-01-05</td>\n",
       "    </tr>\n",
       "  </tbody>\n",
       "</table>\n",
       "</div>"
      ],
      "text/plain": [
       "   Cat  Store  Sales   ROI       Date\n",
       "0    B    4.0  100.0  15.0 2023-01-01\n",
       "1  NaN    3.0  300.0  15.0 2023-01-02\n",
       "2    D    2.0  500.0   5.0 2023-01-03\n",
       "3    C    5.0  400.0  10.0 2023-01-04\n",
       "4    A    4.0  500.0  10.0 2023-01-05"
      ]
     },
     "execution_count": 29,
     "metadata": {},
     "output_type": "execute_result"
    }
   ],
   "source": [
    "sales_data.reset_index(inplace=True)\n",
    "sales_data.head()"
   ]
  },
  {
   "cell_type": "code",
   "execution_count": 36,
   "id": "dcc12c56-cf77-4b73-a498-155a793f9955",
   "metadata": {
    "tags": []
   },
   "outputs": [
    {
     "data": {
      "text/html": [
       "<div>\n",
       "<style scoped>\n",
       "    .dataframe tbody tr th:only-of-type {\n",
       "        vertical-align: middle;\n",
       "    }\n",
       "\n",
       "    .dataframe tbody tr th {\n",
       "        vertical-align: top;\n",
       "    }\n",
       "\n",
       "    .dataframe thead th {\n",
       "        text-align: right;\n",
       "    }\n",
       "</style>\n",
       "<table border=\"1\" class=\"dataframe\">\n",
       "  <thead>\n",
       "    <tr style=\"text-align: right;\">\n",
       "      <th></th>\n",
       "      <th>Cat</th>\n",
       "      <th>Store</th>\n",
       "      <th>Sales</th>\n",
       "      <th>ROI</th>\n",
       "      <th>Date</th>\n",
       "    </tr>\n",
       "  </thead>\n",
       "  <tbody>\n",
       "    <tr>\n",
       "      <th>2</th>\n",
       "      <td>D</td>\n",
       "      <td>2.0</td>\n",
       "      <td>500.0</td>\n",
       "      <td>5.0</td>\n",
       "      <td>2023-01-03</td>\n",
       "    </tr>\n",
       "    <tr>\n",
       "      <th>3</th>\n",
       "      <td>C</td>\n",
       "      <td>5.0</td>\n",
       "      <td>400.0</td>\n",
       "      <td>10.0</td>\n",
       "      <td>2023-01-04</td>\n",
       "    </tr>\n",
       "    <tr>\n",
       "      <th>4</th>\n",
       "      <td>A</td>\n",
       "      <td>4.0</td>\n",
       "      <td>500.0</td>\n",
       "      <td>10.0</td>\n",
       "      <td>2023-01-05</td>\n",
       "    </tr>\n",
       "    <tr>\n",
       "      <th>5</th>\n",
       "      <td>A</td>\n",
       "      <td>1.0</td>\n",
       "      <td>400.0</td>\n",
       "      <td>10.0</td>\n",
       "      <td>2023-01-06</td>\n",
       "    </tr>\n",
       "    <tr>\n",
       "      <th>6</th>\n",
       "      <td>A</td>\n",
       "      <td>3.0</td>\n",
       "      <td>400.0</td>\n",
       "      <td>15.0</td>\n",
       "      <td>2023-01-07</td>\n",
       "    </tr>\n",
       "  </tbody>\n",
       "</table>\n",
       "</div>"
      ],
      "text/plain": [
       "  Cat  Store  Sales   ROI       Date\n",
       "2   D    2.0  500.0   5.0 2023-01-03\n",
       "3   C    5.0  400.0  10.0 2023-01-04\n",
       "4   A    4.0  500.0  10.0 2023-01-05\n",
       "5   A    1.0  400.0  10.0 2023-01-06\n",
       "6   A    3.0  400.0  15.0 2023-01-07"
      ]
     },
     "execution_count": 36,
     "metadata": {},
     "output_type": "execute_result"
    }
   ],
   "source": [
    "mask_400=sales_data['Sales']>=400\n",
    "sales_data[mask_400].head()"
   ]
  },
  {
   "cell_type": "code",
   "execution_count": 39,
   "id": "764e13f2-6c59-40fb-ac05-5e563e368caa",
   "metadata": {},
   "outputs": [
    {
     "data": {
      "text/html": [
       "<div>\n",
       "<style scoped>\n",
       "    .dataframe tbody tr th:only-of-type {\n",
       "        vertical-align: middle;\n",
       "    }\n",
       "\n",
       "    .dataframe tbody tr th {\n",
       "        vertical-align: top;\n",
       "    }\n",
       "\n",
       "    .dataframe thead th {\n",
       "        text-align: right;\n",
       "    }\n",
       "</style>\n",
       "<table border=\"1\" class=\"dataframe\">\n",
       "  <thead>\n",
       "    <tr style=\"text-align: right;\">\n",
       "      <th></th>\n",
       "      <th>Cat</th>\n",
       "      <th>Store</th>\n",
       "      <th>Sales</th>\n",
       "      <th>ROI</th>\n",
       "      <th>Date</th>\n",
       "    </tr>\n",
       "  </thead>\n",
       "  <tbody>\n",
       "    <tr>\n",
       "      <th>2</th>\n",
       "      <td>D</td>\n",
       "      <td>2.0</td>\n",
       "      <td>500.000000</td>\n",
       "      <td>5.0</td>\n",
       "      <td>2023-01-03</td>\n",
       "    </tr>\n",
       "    <tr>\n",
       "      <th>7</th>\n",
       "      <td>D</td>\n",
       "      <td>5.0</td>\n",
       "      <td>500.000000</td>\n",
       "      <td>15.0</td>\n",
       "      <td>2023-01-08</td>\n",
       "    </tr>\n",
       "    <tr>\n",
       "      <th>9</th>\n",
       "      <td>D</td>\n",
       "      <td>4.0</td>\n",
       "      <td>300.000000</td>\n",
       "      <td>20.0</td>\n",
       "      <td>2023-01-10</td>\n",
       "    </tr>\n",
       "    <tr>\n",
       "      <th>12</th>\n",
       "      <td>D</td>\n",
       "      <td>3.0</td>\n",
       "      <td>287.919463</td>\n",
       "      <td>NaN</td>\n",
       "      <td>2023-01-13</td>\n",
       "    </tr>\n",
       "    <tr>\n",
       "      <th>25</th>\n",
       "      <td>D</td>\n",
       "      <td>3.0</td>\n",
       "      <td>300.000000</td>\n",
       "      <td>10.0</td>\n",
       "      <td>2023-01-26</td>\n",
       "    </tr>\n",
       "  </tbody>\n",
       "</table>\n",
       "</div>"
      ],
      "text/plain": [
       "   Cat  Store       Sales   ROI       Date\n",
       "2    D    2.0  500.000000   5.0 2023-01-03\n",
       "7    D    5.0  500.000000  15.0 2023-01-08\n",
       "9    D    4.0  300.000000  20.0 2023-01-10\n",
       "12   D    3.0  287.919463   NaN 2023-01-13\n",
       "25   D    3.0  300.000000  10.0 2023-01-26"
      ]
     },
     "execution_count": 39,
     "metadata": {},
     "output_type": "execute_result"
    }
   ],
   "source": [
    "mask_d=sales_data['Cat']=='D'\n",
    "sales_data[mask_d].head()"
   ]
  },
  {
   "cell_type": "code",
   "execution_count": 42,
   "id": "55a5daec-6522-47a3-a29f-ed7224962345",
   "metadata": {
    "tags": []
   },
   "outputs": [
    {
     "data": {
      "text/html": [
       "<div>\n",
       "<style scoped>\n",
       "    .dataframe tbody tr th:only-of-type {\n",
       "        vertical-align: middle;\n",
       "    }\n",
       "\n",
       "    .dataframe tbody tr th {\n",
       "        vertical-align: top;\n",
       "    }\n",
       "\n",
       "    .dataframe thead th {\n",
       "        text-align: right;\n",
       "    }\n",
       "</style>\n",
       "<table border=\"1\" class=\"dataframe\">\n",
       "  <thead>\n",
       "    <tr style=\"text-align: right;\">\n",
       "      <th></th>\n",
       "      <th>Cat</th>\n",
       "      <th>Store</th>\n",
       "      <th>Sales</th>\n",
       "      <th>ROI</th>\n",
       "      <th>Date</th>\n",
       "    </tr>\n",
       "  </thead>\n",
       "  <tbody>\n",
       "    <tr>\n",
       "      <th>2</th>\n",
       "      <td>D</td>\n",
       "      <td>2.0</td>\n",
       "      <td>500.0</td>\n",
       "      <td>5.0</td>\n",
       "      <td>2023-01-03</td>\n",
       "    </tr>\n",
       "    <tr>\n",
       "      <th>7</th>\n",
       "      <td>D</td>\n",
       "      <td>5.0</td>\n",
       "      <td>500.0</td>\n",
       "      <td>15.0</td>\n",
       "      <td>2023-01-08</td>\n",
       "    </tr>\n",
       "    <tr>\n",
       "      <th>35</th>\n",
       "      <td>D</td>\n",
       "      <td>3.0</td>\n",
       "      <td>400.0</td>\n",
       "      <td>5.0</td>\n",
       "      <td>2023-02-05</td>\n",
       "    </tr>\n",
       "    <tr>\n",
       "      <th>53</th>\n",
       "      <td>D</td>\n",
       "      <td>3.0</td>\n",
       "      <td>400.0</td>\n",
       "      <td>25.0</td>\n",
       "      <td>2023-02-23</td>\n",
       "    </tr>\n",
       "    <tr>\n",
       "      <th>62</th>\n",
       "      <td>D</td>\n",
       "      <td>1.0</td>\n",
       "      <td>400.0</td>\n",
       "      <td>20.0</td>\n",
       "      <td>2023-03-04</td>\n",
       "    </tr>\n",
       "  </tbody>\n",
       "</table>\n",
       "</div>"
      ],
      "text/plain": [
       "   Cat  Store  Sales   ROI       Date\n",
       "2    D    2.0  500.0   5.0 2023-01-03\n",
       "7    D    5.0  500.0  15.0 2023-01-08\n",
       "35   D    3.0  400.0   5.0 2023-02-05\n",
       "53   D    3.0  400.0  25.0 2023-02-23\n",
       "62   D    1.0  400.0  20.0 2023-03-04"
      ]
     },
     "execution_count": 42,
     "metadata": {},
     "output_type": "execute_result"
    }
   ],
   "source": [
    "sales_data[mask_400 & mask_d].head()"
   ]
  },
  {
   "cell_type": "markdown",
   "id": "cb4d9cae-7f53-4a42-86b8-2ed8a3961073",
   "metadata": {},
   "source": [
    "`2. **Adding New Columns**:\n",
    "   - You can add new columns to a DataFrame by assigning a new Series or a calculated value to a new column name.\n",
    "   - `df[\"Sum\"] = df[\"A\"] + df[\"B\"]`"
   ]
  },
  {
   "cell_type": "code",
   "execution_count": null,
   "id": "f887f181-3ed6-4805-90de-e091794f527a",
   "metadata": {},
   "outputs": [],
   "source": []
  },
  {
   "cell_type": "code",
   "execution_count": null,
   "id": "6546b19c-35ca-4f80-9369-08351ca1136d",
   "metadata": {},
   "outputs": [],
   "source": []
  },
  {
   "cell_type": "markdown",
   "id": "0db29b4b-42cd-4006-8d87-5a438f3aa0ab",
   "metadata": {
    "tags": []
   },
   "source": [
    "3. **Sorting**:\n",
    "   - **`sort_values()`**: This function is used to sort a DataFrame by one or more columns.\n",
    "   - `sorted_df = df.sort_values(by=[\"A\", \"B\"], ascending=[True, False])`\n",
    "   - `sorted_df = df.sort_values(by=\"C\", na_position=\"last\")`\n",
    "   - `df.sort_values(by=\"B\", inplace=True)`"
   ]
  },
  {
   "cell_type": "code",
   "execution_count": null,
   "id": "5685933d-d4d5-4e1c-a842-8037b5ed5fbb",
   "metadata": {},
   "outputs": [],
   "source": []
  },
  {
   "cell_type": "code",
   "execution_count": null,
   "id": "c8ae11eb-0545-48fc-9e5a-ecb8956c18a4",
   "metadata": {},
   "outputs": [],
   "source": []
  },
  {
   "cell_type": "markdown",
   "id": "5e652d0e-d31d-4260-82e0-819b2286e877",
   "metadata": {},
   "source": [
    "3. **Ranking**:\n",
    "   - **`rank()`**: This function assigns ranks to entries in a DataFrame based on the values in a specified column.\n",
    "   - `df['A_rank'] = df['A'].rank()`\n",
    "   - `df['A_rank_desc'] = df['A'].rank(ascending=False, pct=True)`"
   ]
  },
  {
   "cell_type": "code",
   "execution_count": null,
   "id": "ef545ad7-cfd8-4850-ab5a-e51bedca0efe",
   "metadata": {},
   "outputs": [],
   "source": []
  },
  {
   "cell_type": "code",
   "execution_count": null,
   "id": "64fc7cb3-33e9-486a-a975-b679f629bf27",
   "metadata": {},
   "outputs": [],
   "source": []
  },
  {
   "cell_type": "markdown",
   "id": "ac3ff67a-4e08-4cda-84eb-11e656367fcf",
   "metadata": {},
   "source": [
    "#### **Using `groupby` and `agg` in Pandas**\n",
    "The `groupby` and `agg` functions in pandas are powerful tools for data aggregation and analysis. Here's how to use them effectively:**sales _dataset.csv**"
   ]
  },
  {
   "cell_type": "markdown",
   "id": "a173462e-eb5d-4240-bfb4-eb6e955e38f4",
   "metadata": {
    "tags": []
   },
   "source": [
    "**Multiple aggregations using agg**\n",
    "- `result = df.groupby('Category').agg({ `\n",
    "- `'Sales': ['sum', 'mean', 'max'],`\n",
    "- `'Returns': ['mean', 'min', 'max']\n",
    "})`"
   ]
  },
  {
   "cell_type": "code",
   "execution_count": null,
   "id": "01d64912-dc75-4191-87c2-8a08ed4cd4b9",
   "metadata": {},
   "outputs": [],
   "source": []
  },
  {
   "cell_type": "code",
   "execution_count": null,
   "id": "5862fd4f-2077-4df0-8205-166495b199f5",
   "metadata": {},
   "outputs": [],
   "source": []
  },
  {
   "cell_type": "code",
   "execution_count": null,
   "id": "98d673ba-7ceb-4da2-a88b-cc2d3b0b6ab9",
   "metadata": {},
   "outputs": [],
   "source": []
  },
  {
   "cell_type": "markdown",
   "id": "911bb8db-4e74-4e36-826f-dd71ea7624dd",
   "metadata": {
    "tags": []
   },
   "source": [
    "**Named aggregations**\n",
    "- `named_agg = df.groupby('Category').agg(`\n",
    "- `total_sales=('Sales', 'sum'),`\n",
    "- `avg_sales=('Sales', 'mean'),`\n",
    "- `max_returns=('Returns', 'max'),\n",
    ")`"
   ]
  },
  {
   "cell_type": "code",
   "execution_count": null,
   "id": "01e188c9-7208-49d7-89ad-fdb19ce2fe4c",
   "metadata": {},
   "outputs": [],
   "source": []
  },
  {
   "cell_type": "code",
   "execution_count": null,
   "id": "f93d130d-2e85-42e5-a5c7-3f50456ce256",
   "metadata": {},
   "outputs": [],
   "source": []
  },
  {
   "cell_type": "markdown",
   "id": "d551a35a-c26d-42a0-9e8f-611eed5b68bc",
   "metadata": {},
   "source": [
    "### 2.3 Hands-on Practice\n",
    "\n",
    "For hands-on practice, you can use the following Python packages:\n",
    "- **Pandas**: This is the primary package for data manipulation and analysis in Python. It provides all the functions mentioned above.\n",
    "- **NumPy**: Useful for numerical operations and handling arrays, which can be helpful in data manipulation tasks.\n"
   ]
  },
  {
   "cell_type": "markdown",
   "id": "9a0509fd-1527-440e-a2f6-fbb61dd0071b",
   "metadata": {},
   "source": [
    "Use this dataset [sample_data](https://github.com/ddaeducation/data/blob/main/sample_data.csv):\n",
    "\n",
    "\n",
    "### **2.3.1 Data Cleaning**\n",
    "\n",
    "#### **Handling Missing Data**\n",
    "1. **Identifying Missing Values:**\n",
    "   - How many missing values are there in each column? \n",
    "   - Identify which rows have missing values in the `weight` column.\n",
    "\n",
    "2. **Dropping Missing Values:**\n",
    "   - Remove all rows with missing values. How many rows remain in the dataset?\n",
    "\n",
    "3. **Filling Missing Values:**\n",
    "   - Fill missing `weight` values with the mean weight of the dataset.\n",
    "   - Fill missing `income` values with the median income of the dataset.\n",
    "\n",
    "---\n",
    "\n",
    "4.  **Renaming Columns and Rows**\n",
    "   Rename the column names to be more descriptive. For example:\n",
    "   - `age` -> `Age (Years)`\n",
    "   - `gender` -> `Gender`\n",
    "   - `height` -> `Height (cm)`\n",
    "   - `weight` -> `Weight (kg)`\n",
    "   - `income` -> `Annual Income (RWF)`\n",
    "\n",
    "\n",
    "5. **Dropping Duplicates**\n",
    "   Check for duplicate rows in the dataset. If duplicates exist, remove them. How many \n",
    "    duplicates were removed?\n",
    "\n",
    "---\n",
    "\n",
    "### **2.3.2 Data Transformation**\n",
    "\n",
    "#### **Filtering and Conditional Selections**\n",
    "6. **Basic Filtering:**\n",
    "   - Extract all rows where `gender` is \"Female.\"\n",
    "   - Extract rows where `age` is greater than 35 and `income` is less than 100,000.\n",
    "\n",
    "7. **Advanced Filtering:**\n",
    "   - Filter rows where `Height (cm)` is above the average height in the dataset.\n",
    "\n",
    "---\n",
    "\n",
    "#### **Adding New Columns**\n",
    "8. Create a new column called `BMI` (Body Mass Index) using the formula:  \n",
    " \n",
    "   `BMI = Weight(kg)/Height(m)^2`\n",
    "   \n",
    "   - Note: Convert height from cm to meters.\n",
    "\n",
    "#### **Sorting and Ranking**\n",
    "10. Sort the dataset by `Annual Income (RWF)` in descending order.\n",
    "11. Assign a rank to individuals based on their `Annual Income (RWF)`.\n",
    "\n",
    "---\n",
    "\n",
    "### **2.3.3 Answer the Following Questions**\n",
    "\n",
    "14. **Exploratory Questions:**\n",
    "    - What is the average `Annual Income (RWF)` for \"Female\" individuals?\n",
    "    - What is the average `BMI` for individuals in the \"Senior\" age group?\n",
    "\n",
    "---\n",
    "\n",
    "These questions will guide participants through **data cleaning**, **transformation**, and **analysis**, providing hands-on practice with the dataset."
   ]
  },
  {
   "cell_type": "markdown",
   "id": "d7b77c8e-89d0-42e9-8b66-33793c2fab83",
   "metadata": {},
   "source": [
    "\n",
    "The code should demonstrates how to handle missing data, rename columns, drop duplicates, add a calculated column, and filter the DataFrame based on a condition. You can modify the dataset and conditions as needed for your exercises."
   ]
  },
  {
   "cell_type": "markdown",
   "id": "0c33675f-ee69-47a2-afca-4088b0613c1c",
   "metadata": {},
   "source": [
    "### Body Mass Index Formula"
   ]
  },
  {
   "cell_type": "code",
   "execution_count": 30,
   "id": "f59095cd-3033-4383-83bc-571d5d6618e7",
   "metadata": {},
   "outputs": [
    {
     "data": {
      "text/latex": [
       "$\\displaystyle BMI = \\frac{\\text{Weight (kg)}}{\\left(\\text{Height (m)}\\right)^2}$"
      ],
      "text/plain": [
       "<IPython.core.display.Math object>"
      ]
     },
     "metadata": {},
     "output_type": "display_data"
    }
   ],
   "source": [
    "from IPython.display import display, Math\n",
    "display(Math(r'BMI = \\frac{\\text{Weight (kg)}}{\\left(\\text{Height (m)}\\right)^2}'))"
   ]
  },
  {
   "cell_type": "code",
   "execution_count": null,
   "id": "42b93a70-db9c-46ad-91ce-39bd11b14a69",
   "metadata": {},
   "outputs": [],
   "source": []
  }
 ],
 "metadata": {
  "kernelspec": {
   "display_name": "Python [conda env:base] *",
   "language": "python",
   "name": "conda-base-py"
  },
  "language_info": {
   "codemirror_mode": {
    "name": "ipython",
    "version": 3
   },
   "file_extension": ".py",
   "mimetype": "text/x-python",
   "name": "python",
   "nbconvert_exporter": "python",
   "pygments_lexer": "ipython3",
   "version": "3.12.7"
  }
 },
 "nbformat": 4,
 "nbformat_minor": 5
}
